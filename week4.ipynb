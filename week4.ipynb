{
  "nbformat": 4,
  "nbformat_minor": 0,
  "metadata": {
    "colab": {
      "provenance": []
    },
    "kernelspec": {
      "name": "python3",
      "display_name": "Python 3"
    },
    "language_info": {
      "name": "python"
    }
  },
  "cells": [
    {
      "cell_type": "code",
      "source": [
        "#1.     Write a Python program to create a Vehicle class with max_speed and mileage instance attributes.\n",
        "\n",
        "class Vehicle:\n",
        "    def __init__(self, max_speed, mileage):\n",
        "        self.max_speed = max_speed\n",
        "        self.mileage = mileage\n",
        "        \n",
        "        \n",
        "car = Vehicle(56, 225)\n",
        "print(car.max_speed, car.mileage)"
      ],
      "metadata": {
        "colab": {
          "base_uri": "https://localhost:8080/"
        },
        "id": "kLEMHlQKmJsT",
        "outputId": "290d83eb-ed84-4a9a-82b4-b35547cb1f78"
      },
      "execution_count": 6,
      "outputs": [
        {
          "output_type": "stream",
          "name": "stdout",
          "text": [
            "56 225\n"
          ]
        }
      ]
    },
    {
      "cell_type": "code",
      "source": [
        "#2.     Create a Vehicle class without any variables and methods.\n",
        "class Vehicle:\n",
        "    pass"
      ],
      "metadata": {
        "id": "ni6giWkhnPrh"
      },
      "execution_count": 7,
      "outputs": []
    },
    {
      "cell_type": "code",
      "source": [
        "#3   Create a child class Bus that will inherit all of the variables and methods of the Vehicle class\n",
        "class Vehicle:\n",
        "\n",
        "    def __init__(self, name, max_speed, mileage):                \n",
        "        self.name = name\n",
        "        self.max_speed = max_speed\n",
        "        self.mileage = mileage"
      ],
      "metadata": {
        "id": "onoFrwEbnuYc"
      },
      "execution_count": 8,
      "outputs": []
    },
    {
      "cell_type": "code",
      "source": [
        "#4\n",
        "\n",
        "# Create a Bus class that inherits from the Vehicle class. Give the capacity argument of Bus.seating_capacity() a default value of 50.\n",
        "\n",
        "class Vehicle:\n",
        "    def __init__(self, name, max_speed, mileage):\n",
        "        self.name = name\n",
        "        self.max_speed = max_speed\n",
        "        self.mileage = mileage\n",
        "\n",
        "    def seating_capacity(self, capacity):\n",
        "        return f\"The seating capacity of a {self.name} is {capacity} passengers\""
      ],
      "metadata": {
        "id": "rsYks18Gn4hc"
      },
      "execution_count": 10,
      "outputs": []
    },
    {
      "cell_type": "code",
      "source": [
        "#5\n",
        "#Create a Bus child class that inherits from the Vehicle class. The default fare charge of any vehicle is seating capacity * 100. If Vehicle is Bus instance, we need to add an extra 10% on full fare as a maintenance charge. So total fare for bus instance will become the final amount = total fare + 10% of the total fare.\n",
        "class Vehicle:\n",
        "    def __init__(self, name, mileage, capacity):\n",
        "        self.name = name\n",
        "        self.mileage = mileage\n",
        "        self.capacity = capacity\n",
        "\n",
        "    def fare(self):\n",
        "        return self.capacity * 200\n",
        "\n",
        "class Bus(Vehicle):\n",
        "    pass\n",
        "\n",
        "School_bus = Bus(\"School Volvo\", 2, 30)\n",
        "print(\"Total Bus fare is:\", School_bus.fare())"
      ],
      "metadata": {
        "colab": {
          "base_uri": "https://localhost:8080/"
        },
        "id": "_8WnYDD7oRu5",
        "outputId": "f04d9d79-89d7-4e90-e546-7b19131691de"
      },
      "execution_count": 13,
      "outputs": [
        {
          "output_type": "stream",
          "name": "stdout",
          "text": [
            "Total Bus fare is: 6000\n"
          ]
        }
      ]
    },
    {
      "cell_type": "code",
      "source": [],
      "metadata": {
        "id": "-wZHZrlcofVB"
      },
      "execution_count": null,
      "outputs": []
    }
  ]
}